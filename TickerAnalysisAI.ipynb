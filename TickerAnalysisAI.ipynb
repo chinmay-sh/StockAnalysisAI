{
  "nbformat": 4,
  "nbformat_minor": 0,
  "metadata": {
    "colab": {
      "provenance": [],
      "authorship_tag": "ABX9TyO/Z+eE0GXrNYsf/zRFp35B",
      "include_colab_link": true
    },
    "kernelspec": {
      "name": "python3",
      "display_name": "Python 3"
    },
    "language_info": {
      "name": "python"
    }
  },
  "cells": [
    {
      "cell_type": "markdown",
      "metadata": {
        "id": "view-in-github",
        "colab_type": "text"
      },
      "source": [
        "<a href=\"https://colab.research.google.com/github/chinmay-sh/StockAnalysisAI/blob/main/TickerAnalysisAI.ipynb\" target=\"_parent\"><img src=\"https://colab.research.google.com/assets/colab-badge.svg\" alt=\"Open In Colab\"/></a>"
      ]
    },
    {
      "cell_type": "code",
      "source": [
        "!pip install --upgrade gradio -q\n",
        "!pip install yfinance -q"
      ],
      "metadata": {
        "colab": {
          "base_uri": "https://localhost:8080/"
        },
        "id": "koj2Emvzjmdi",
        "outputId": "ca6a34be-805c-48c3-e4e6-84d034a07ff2"
      },
      "execution_count": 1,
      "outputs": [
        {
          "output_type": "stream",
          "name": "stdout",
          "text": [
            "\u001b[2K   \u001b[90m━━━━━━━━━━━━━━━━━━━━━━━━━━━━━━━━━━━━━━━━\u001b[0m \u001b[32m56.7/56.7 MB\u001b[0m \u001b[31m10.9 MB/s\u001b[0m eta \u001b[36m0:00:00\u001b[0m\n",
            "\u001b[2K   \u001b[90m━━━━━━━━━━━━━━━━━━━━━━━━━━━━━━━━━━━━━━━━\u001b[0m \u001b[32m319.8/319.8 kB\u001b[0m \u001b[31m12.4 MB/s\u001b[0m eta \u001b[36m0:00:00\u001b[0m\n",
            "\u001b[2K   \u001b[90m━━━━━━━━━━━━━━━━━━━━━━━━━━━━━━━━━━━━━━━━\u001b[0m \u001b[32m94.7/94.7 kB\u001b[0m \u001b[31m5.8 MB/s\u001b[0m eta \u001b[36m0:00:00\u001b[0m\n",
            "\u001b[2K   \u001b[90m━━━━━━━━━━━━━━━━━━━━━━━━━━━━━━━━━━━━━━━━\u001b[0m \u001b[32m447.5/447.5 kB\u001b[0m \u001b[31m22.3 MB/s\u001b[0m eta \u001b[36m0:00:00\u001b[0m\n",
            "\u001b[2K   \u001b[90m━━━━━━━━━━━━━━━━━━━━━━━━━━━━━━━━━━━━━━━━\u001b[0m \u001b[32m11.0/11.0 MB\u001b[0m \u001b[31m71.6 MB/s\u001b[0m eta \u001b[36m0:00:00\u001b[0m\n",
            "\u001b[2K   \u001b[90m━━━━━━━━━━━━━━━━━━━━━━━━━━━━━━━━━━━━━━━━\u001b[0m \u001b[32m73.3/73.3 kB\u001b[0m \u001b[31m4.8 MB/s\u001b[0m eta \u001b[36m0:00:00\u001b[0m\n",
            "\u001b[2K   \u001b[90m━━━━━━━━━━━━━━━━━━━━━━━━━━━━━━━━━━━━━━━━\u001b[0m \u001b[32m63.7/63.7 kB\u001b[0m \u001b[31m3.8 MB/s\u001b[0m eta \u001b[36m0:00:00\u001b[0m\n",
            "\u001b[2K   \u001b[90m━━━━━━━━━━━━━━━━━━━━━━━━━━━━━━━━━━━━━━━━\u001b[0m \u001b[32m130.2/130.2 kB\u001b[0m \u001b[31m9.9 MB/s\u001b[0m eta \u001b[36m0:00:00\u001b[0m\n",
            "\u001b[?25h"
          ]
        }
      ]
    },
    {
      "cell_type": "code",
      "source": [
        "from google.colab import userdata\n",
        "import yfinance as yf\n",
        "import gradio as gr\n",
        "import google.generativeai as genai\n",
        "from google.colab import userdata\n",
        "import requests\n",
        "import math\n",
        "from pydantic import BaseModel\n",
        "from typing import List"
      ],
      "metadata": {
        "id": "04_SLWw-vjXq"
      },
      "execution_count": 55,
      "outputs": []
    },
    {
      "cell_type": "code",
      "source": [
        "def predict_stock_price(ticker):\n",
        "    # Get historical data\n",
        "    stock_data = yf.Ticker(ticker)\n",
        "    hist = stock_data.history(period=\"5d\")\n",
        "\n",
        "    hist_closing_prices = {}\n",
        "    for key, value in hist[\"Close\"].to_dict().items():\n",
        "        hist_closing_prices[str(key).split(\" \")[0]] = math.floor(value)\n",
        "\n",
        "    # Get current price\n",
        "    current_price = stock_data.info['currentPrice']\n",
        "\n",
        "    # Get news sentiment from Alpha Vantage (replace with actual API call)\n",
        "    # ...\n",
        "\n",
        "    # Prepare prompt for LLM\n",
        "    api_key_name = 'GEMINI_API_KEY'\n",
        "    system_instructions = \"\"\"\n",
        "    You are a stock/cryptocurrency price and news sentiment analysis model.\n",
        "\n",
        "    Input will be stock/cryptocurrency ticker along with current price, 5 days of historical daily price, news sentiment average from AlphaVantage API for latest 10 news articles, and 10 latest news articles will also be input.\n",
        "\n",
        "    Your task is to output a summary of those 10 news articles along with estimates of closing price for next 3 days. This estimate should be based on price trends along with news sentiment analysis and knowledge gained from news articles.\n",
        "\n",
        "    Inputs:\n",
        "    ===============\n",
        "    Ticker: [string]\n",
        "    current_price: [float]\n",
        "    historical_price_data: [list of historical closing prices for last 5 days week]\n",
        "    news_sentiment_average_alphavantage: Average of news sentiment scores for latest 10 news articles from AlphaVantage API (x, where x <= -0.35: Bearish; -0.35 < x <= -0.15: Somewhat-Bearish; -0.15 < x < 0.15: Neutral; 0.15 <= x < 0.35: Somewhat_Bullish; x >= 0.35: Bullish)\n",
        "    news_articles_list: list of Urls of Latest 10 news articles related to ticker from AlphaVantage API.\n",
        "\n",
        "\n",
        "    Outputs (in JSON format):\n",
        "    ===============\n",
        "    predicted_prices: [list of predicted closing prices for next 3 days]\n",
        "    summary_of_news_articles: [summary of latest 10 news articles]\n",
        "\n",
        "    Example:\n",
        "    ===============\n",
        "    Input:\n",
        "    ------\n",
        "    ticker: \"AAPL\"\n",
        "    current_price: 150.0\n",
        "    historical_price_data: {'2024-10-28': 426,'2024-10-29': 431,'2024-10-30': 432,'2024-10-31': 406,'2024-11-01': 410}\n",
        "    news_sentiment_average_alphavantage: 0.2\n",
        "    news_articles_list: [\"https://example.com/article1\", \"https://example.com/article2\", ...]\n",
        "\n",
        "    Output:\n",
        "    future_prices_3_days: {'2024-11-02': 415, '2024-11-03': 419, '2024-11-04': 405}\n",
        "    summary_of_news_articles: \"The latest news articles related to AAPL were ...\"\n",
        "    \"\"\"\n",
        "    model = 'gemini-1.5-flash' # @param {type: \"string\"} [\"gemini-1.5-pro\", \"gemini-1.5-flash\"]\n",
        "    temperature = 0.5 # @param {type: \"slider\", min: 0, max: 2, step: 0.05}\n",
        "\n",
        "    api_key = userdata.get(api_key_name)\n",
        "    genai.configure(api_key=api_key)\n",
        "\n",
        "    model = genai.GenerativeModel(model, system_instruction=system_instructions)\n",
        "    config = genai.GenerationConfig(temperature=temperature)\n",
        "\n",
        "    prompt = f\"\"\"\n",
        "    Input:\n",
        "    ------\n",
        "    ticker: {ticker}\n",
        "    current_price: {stock_data.info['currentPrice']}\n",
        "    historical_price_data: {hist_closing_prices}\n",
        "    news_sentiment_average_alphavantage: 0.2\n",
        "    news_articles_list: [\"https://example.com/article1\", \"https://example.com/article2\", ...]\n",
        "    \"\"\"\n",
        "\n",
        "    response = model.generate_content(contents=[prompt], generation_config=config)\n",
        "\n",
        "    print(response.text)\n",
        "\n",
        "    # Display results in Gradio UI\n",
        "    # return f\"Current Price: {stock_data.info['regularMarketPrice']}\\nAverage Sentiment: {avg_sentiment}\\nPredicted Price: {prediction}\"\n",
        "\n",
        "# Create Gradio interface\n",
        "# iface = gr.Interface(\n",
        "#     fn=predict_stock_price,\n",
        "#     inputs=\"text\",\n",
        "#     outputs=\"text\"\n",
        "# )\n",
        "\n",
        "# iface.launch()"
      ],
      "metadata": {
        "id": "ejkL_KYAken3"
      },
      "execution_count": 70,
      "outputs": []
    },
    {
      "cell_type": "code",
      "source": [
        "predict_stock_price(\"AAPL\")"
      ],
      "metadata": {
        "colab": {
          "base_uri": "https://localhost:8080/",
          "height": 471
        },
        "id": "z1K_cAbr-3fv",
        "outputId": "3ce240c2-38c9-4ed5-a411-c7b40115a95c"
      },
      "execution_count": 72,
      "outputs": [
        {
          "output_type": "stream",
          "name": "stdout",
          "text": [
            "```json\n",
            "{\n",
            "  \"predicted_prices\": {\n",
            "    \"2024-11-02\": 220,\n",
            "    \"2024-11-03\": 223,\n",
            "    \"2024-11-04\": 225\n",
            "  },\n",
            "  \"summary_of_news_articles\": \"The latest news articles related to AAPL indicate a somewhat bullish sentiment. While the stock has experienced a slight downward trend in recent days, news articles suggest potential positive developments in the company's future. Some articles highlight the company's upcoming product launches, while others discuss strong financial performance and positive market outlook. Overall, the news suggests a potential for moderate growth in the coming days.\"\n",
            "}\n",
            "```\n",
            "\n",
            "**Explanation:**\n",
            "\n",
            "* **Price Trend:** The historical price data shows a downward trend over the past 5 days. However, the current price is slightly above the closing price of the previous day. This suggests a potential for a slight rebound.\n",
            "* **News Sentiment:** The news sentiment score of 0.2 indicates a somewhat bullish sentiment. This suggests that the news articles are generally positive towards AAPL, which could contribute to a price increase.\n",
            "* **News Summary:** The summary of the news articles highlights positive developments such as upcoming product launches, strong financial performance, and positive market outlook. This reinforces the somewhat bullish sentiment.\n",
            "\n",
            "**Predicted Prices:**\n",
            "\n",
            "* **2024-11-02:** 220 - Based on the downward trend and the news sentiment, the price is predicted to drop slightly.\n",
            "* **2024-11-03:** 223 - The price is predicted to rebound slightly due to the positive news sentiment.\n",
            "* **2024-11-04:** 225 - The price is predicted to continue its upward trend, as the positive news sentiment is expected to outweigh the recent downward trend.\n",
            "\n",
            "**Note:** This is just a prediction based on the available data. Actual prices may vary depending on various factors such as market conditions, investor sentiment, and unexpected events. \n",
            "\n"
          ]
        }
      ]
    },
    {
      "cell_type": "code",
      "source": [],
      "metadata": {
        "id": "WLNJ7QdxBKCo"
      },
      "execution_count": null,
      "outputs": []
    }
  ]
}