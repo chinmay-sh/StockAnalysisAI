{
  "nbformat": 4,
  "nbformat_minor": 0,
  "metadata": {
    "colab": {
      "provenance": [],
      "authorship_tag": "ABX9TyNPmMFtPRbSLIrnoBiLaz+t",
      "include_colab_link": true
    },
    "kernelspec": {
      "name": "python3",
      "display_name": "Python 3"
    },
    "language_info": {
      "name": "python"
    }
  },
  "cells": [
    {
      "cell_type": "markdown",
      "metadata": {
        "id": "view-in-github",
        "colab_type": "text"
      },
      "source": [
        "<a href=\"https://colab.research.google.com/github/chinmay-sh/StockAnalysisAI/blob/main/TickerAnalysisAI.ipynb\" target=\"_parent\"><img src=\"https://colab.research.google.com/assets/colab-badge.svg\" alt=\"Open In Colab\"/></a>"
      ]
    },
    {
      "cell_type": "code",
      "source": [
        "!pip install --upgrade gradio -q\n",
        "!pip install yfinance -q"
      ],
      "metadata": {
        "id": "koj2Emvzjmdi",
        "collapsed": true,
        "colab": {
          "base_uri": "https://localhost:8080/"
        },
        "outputId": "7896343a-536e-4ecf-e317-a750209896ad"
      },
      "execution_count": 1,
      "outputs": [
        {
          "output_type": "stream",
          "name": "stdout",
          "text": [
            "\u001b[2K   \u001b[90m━━━━━━━━━━━━━━━━━━━━━━━━━━━━━━━━━━━━━━━━\u001b[0m \u001b[32m56.7/56.7 MB\u001b[0m \u001b[31m10.4 MB/s\u001b[0m eta \u001b[36m0:00:00\u001b[0m\n",
            "\u001b[2K   \u001b[90m━━━━━━━━━━━━━━━━━━━━━━━━━━━━━━━━━━━━━━━━\u001b[0m \u001b[32m319.8/319.8 kB\u001b[0m \u001b[31m11.7 MB/s\u001b[0m eta \u001b[36m0:00:00\u001b[0m\n",
            "\u001b[2K   \u001b[90m━━━━━━━━━━━━━━━━━━━━━━━━━━━━━━━━━━━━━━━━\u001b[0m \u001b[32m94.7/94.7 kB\u001b[0m \u001b[31m2.9 MB/s\u001b[0m eta \u001b[36m0:00:00\u001b[0m\n",
            "\u001b[2K   \u001b[90m━━━━━━━━━━━━━━━━━━━━━━━━━━━━━━━━━━━━━━━━\u001b[0m \u001b[32m447.5/447.5 kB\u001b[0m \u001b[31m21.0 MB/s\u001b[0m eta \u001b[36m0:00:00\u001b[0m\n",
            "\u001b[2K   \u001b[90m━━━━━━━━━━━━━━━━━━━━━━━━━━━━━━━━━━━━━━━━\u001b[0m \u001b[32m11.0/11.0 MB\u001b[0m \u001b[31m26.6 MB/s\u001b[0m eta \u001b[36m0:00:00\u001b[0m\n",
            "\u001b[2K   \u001b[90m━━━━━━━━━━━━━━━━━━━━━━━━━━━━━━━━━━━━━━━━\u001b[0m \u001b[32m73.3/73.3 kB\u001b[0m \u001b[31m2.5 MB/s\u001b[0m eta \u001b[36m0:00:00\u001b[0m\n",
            "\u001b[2K   \u001b[90m━━━━━━━━━━━━━━━━━━━━━━━━━━━━━━━━━━━━━━━━\u001b[0m \u001b[32m63.7/63.7 kB\u001b[0m \u001b[31m2.8 MB/s\u001b[0m eta \u001b[36m0:00:00\u001b[0m\n",
            "\u001b[2K   \u001b[90m━━━━━━━━━━━━━━━━━━━━━━━━━━━━━━━━━━━━━━━━\u001b[0m \u001b[32m130.2/130.2 kB\u001b[0m \u001b[31m4.8 MB/s\u001b[0m eta \u001b[36m0:00:00\u001b[0m\n",
            "\u001b[?25h"
          ]
        }
      ]
    },
    {
      "cell_type": "code",
      "source": [
        "from google.colab import userdata\n",
        "import yfinance as yf\n",
        "import gradio as gr\n",
        "import google.generativeai as genai\n",
        "from google.colab import userdata\n",
        "import requests\n",
        "import math\n",
        "import plotly.express as px\n",
        "import json\n",
        "import pandas as pd"
      ],
      "metadata": {
        "id": "04_SLWw-vjXq"
      },
      "execution_count": 2,
      "outputs": []
    },
    {
      "cell_type": "code",
      "source": [
        "ALPHAVANTAGE_API_KEY = userdata.get('ALPHAVANTAGE_API_KEY')\n",
        "\n",
        "GEMINI_API_KEY = userdata.get('GEMINI_API_KEY')\n",
        "\n",
        "\n",
        "# ALPHAVANTAGE_API_KEY = 'demo'"
      ],
      "metadata": {
        "id": "gJL1iIf6jfOP"
      },
      "execution_count": 3,
      "outputs": []
    },
    {
      "cell_type": "code",
      "source": [
        "# prompt: generate a function for calling alphavantage api, sample api call for news sentiment: https://www.alphavantage.co/query?function=NEWS_SENTIMENT&tickers=AAPL&apikey=demo, also limit to top 10 latest articles and only care about sentiment for the provided ticker\n",
        "\n",
        "def get_news_sentiment(ticker):\n",
        "    \"\"\"\n",
        "    Retrieves news sentiment for a given ticker from the Alpha Vantage API.\n",
        "\n",
        "    Args:\n",
        "        ticker: The stock ticker symbol (e.g., \"AAPL\").\n",
        "        apikey: Your Alpha Vantage API key.\n",
        "\n",
        "    Returns:\n",
        "        A list of dictionaries, where each dictionary represents a news article\n",
        "        and contains the article's title, summary, and sentiment score for the\n",
        "        specified ticker.  Returns an empty list if there's an error or no data.\n",
        "    \"\"\"\n",
        "\n",
        "    url = f\"https://www.alphavantage.co/query?function=NEWS_SENTIMENT&tickers={ticker}&apikey={ALPHAVANTAGE_API_KEY}\"\n",
        "    try:\n",
        "        response = requests.get(url)\n",
        "        response.raise_for_status()  # Raise HTTPError for bad responses (4xx or 5xx)\n",
        "\n",
        "        data = response.json()\n",
        "\n",
        "        if \"feed\" not in data or not data[\"feed\"]:\n",
        "            print(f\"No news sentiment data found for this ticker: {data['Information']}\")\n",
        "            return [], None\n",
        "\n",
        "        # Limit to the top 10 latest articles and filter by ticker sentiment\n",
        "        articles = []\n",
        "        average_sentiment_score = 0\n",
        "        total_found_tickers = 0\n",
        "        for item in data[\"feed\"][:10]:\n",
        "            for sentiment in item[\"ticker_sentiment\"]:\n",
        "                if sentiment[\"ticker\"] == ticker:\n",
        "                    articles.append({\n",
        "                        \"title\": item[\"title\"],\n",
        "                        \"summary\": item[\"summary\"],\n",
        "                        \"url\": item[\"url\"],\n",
        "                        \"sentiment_score\": sentiment[\"ticker_sentiment_score\"],\n",
        "                        \"sentiment_label\": sentiment[\"ticker_sentiment_label\"]\n",
        "                    })\n",
        "                    average_sentiment_score += float(sentiment[\"ticker_sentiment_score\"])\n",
        "                    total_found_tickers += 1\n",
        "                    break  # Stop once we find the sentiment for the ticker\n",
        "\n",
        "        if total_found_tickers > 0:\n",
        "            average_sentiment_score /= total_found_tickers\n",
        "        return articles, average_sentiment_score\n",
        "\n",
        "    except requests.exceptions.RequestException as e:\n",
        "        print(f\"Error fetching news sentiment data: {e}\")\n",
        "        return [], None\n",
        "    except KeyError as e:\n",
        "        print(f\"Error parsing API response: Missing key {e}\")\n",
        "        return [], None\n"
      ],
      "metadata": {
        "id": "36oyyCjzMAqN"
      },
      "execution_count": 4,
      "outputs": []
    },
    {
      "cell_type": "code",
      "source": [
        "import ast\n",
        "\n",
        "def llm_output_parser(response_text):\n",
        "    \"\"\"Parses the response text and returns a dictionary.\n",
        "\n",
        "    Args:\n",
        "        response_text: The response text which looks like a dict as a string.\n",
        "\n",
        "    Returns:\n",
        "        A dictionary containing the parsed data, or None if parsing fails.\n",
        "    \"\"\"\n",
        "    try:\n",
        "        response_data = response_text.split(\"```json\")[1].split(\"```\")[0]\n",
        "        response_data = ast.literal_eval(response_data)\n",
        "        return response_data\n",
        "    except Exception as e:\n",
        "        print(\"Error parsing LLM Output:\", e)\n",
        "        return None"
      ],
      "metadata": {
        "id": "xgxNmU7eP4xq"
      },
      "execution_count": 5,
      "outputs": []
    },
    {
      "cell_type": "code",
      "source": [
        "# prompt: function to get today's date out as string\n",
        "\n",
        "from datetime import date\n",
        "\n",
        "def get_todays_date_as_string():\n",
        "  \"\"\"\n",
        "  Returns today's date as a string in YYYY-MM-DD format.\n",
        "  \"\"\"\n",
        "  today = date.today()\n",
        "  return today.strftime(\"%Y-%m-%d\")"
      ],
      "metadata": {
        "id": "lO6QMIVvMzXm"
      },
      "execution_count": 9,
      "outputs": []
    },
    {
      "cell_type": "code",
      "source": [
        "def predict_stock_price(ticker):\n",
        "    ticker = ticker.upper()\n",
        "    # Get historical data\n",
        "    stock_data = yf.Ticker(ticker)\n",
        "    hist = stock_data.history(period=\"5d\")\n",
        "\n",
        "\n",
        "    hist_closing_prices = {}\n",
        "    for key, value in hist[\"Close\"].to_dict().items():\n",
        "        hist_closing_prices[str(key).split(\" \")[0]] = math.floor(value)\n",
        "\n",
        "    # Get current price\n",
        "    current_price = stock_data.info['currentPrice']\n",
        "\n",
        "    # Get news sentiment from Alpha Vantage\n",
        "    news_sentiment_data_alphavantage, average_sentiment_score_alphavantage = get_news_sentiment(ticker)\n",
        "\n",
        "    # Prepare prompt for LLM\n",
        "    system_instructions = \"\"\"\n",
        "    You are a stock/cryptocurrency price and news sentiment analysis model. Special Note: Stock markets are closed on the weekends, so no prediction for weekend dates.\n",
        "\n",
        "    Input will be stock/cryptocurrency ticker along with current price, 5 days of historical daily price, news sentiment average from AlphaVantage API for latest 10 news articles, and 10 latest news articles will also be input.\n",
        "\n",
        "    Your task is to output a summary of those 10 news articles along with estimates of closing price for next 3 days. This estimate should be based on price trends along with news sentiment analysis and knowledge gained from news articles.\n",
        "\n",
        "    Inputs:\n",
        "    ===============\n",
        "    ticker: [string]\n",
        "    date_today: [string]\n",
        "    current_price: [float]\n",
        "    historical_price_data: [dict of historical closing prices for last 5 days week]\n",
        "    news_sentiment_average_alphavantage: [Average of news sentiment scores for latest 10 news articles from AlphaVantage API (x, where x <= -0.35: Bearish; -0.35 < x <= -0.15: Somewhat-Bearish; -0.15 < x < 0.15: Neutral; 0.15 <= x < 0.35: Somewhat_Bullish; x >= 0.35: Bullish)]\n",
        "    news_articles_list: [list of dict data of Latest 10 news articles related to ticker from AlphaVantage API]\n",
        "\n",
        "\n",
        "    Outputs (in JSON format):\n",
        "    ===============\n",
        "    predicted_prices: Dict[str,float] (python dict of predicted closing prices for next 3 days)\n",
        "    summary_of_news_articles: [list of summary items for each of 10 articles, each list item is a dict which should be like this: {'title': 'article_original_title','summary_llm_based': 'text ...','url': 'original_url'}, summary text should be in 100 words, also escaping any special character which might result in errors while parsing]\n",
        "    collective_summary: [summary of all 10 news articles in 300 words]\n",
        "    explanation: [explanation of how the model arrived at the predicted prices and collective summary, in 300 words, also escaping any special character which might result in errors while parsing]\n",
        "\n",
        "    Example for prompts:\n",
        "    ===============\n",
        "    Input:\n",
        "    ------\n",
        "    ticker: \"AAPL\"\n",
        "    date_today: \"2024-10-02\"\n",
        "    current_price: 150.0\n",
        "    historical_price_data: {'2024-10-28': 426,'2024-10-29': 431,'2024-10-30': 432,'2024-10-31': 406,'2024-11-01': 410}\n",
        "    news_sentiment_average_alphavantage: 0.2\n",
        "    news_articles_list: [{'title': 'Why Qorvo Stock Tanked This Week',\n",
        "        'summary': 'The chip supplier really had a fiscal second quarter to forget.',\n",
        "        'url': 'https://www.fool.com/investing/2024/11/01/why-qorvo-stock-tanked-this-week/',\n",
        "        'sentiment_score': '-0.036857',\n",
        "        'sentiment_label': 'Neutral'},\n",
        "      {'title': \"If You'd Invested $1,000 in Apple Stock 10 Years Ago, Here's How Much You'd Have Today\",\n",
        "        'summary': 'Apple has delivered incredible returns for long-term investors.',\n",
        "        'url': 'https://www.fool.com/investing/2024/11/01/if-youd-invested-1000-in-apple-stock-10-years-ago/',\n",
        "        'sentiment_score': '0.483551',\n",
        "        'sentiment_label': 'Bullish'},\n",
        "        .....\n",
        "      {'title': \"Apple Q4 Results 'Better-Than-Feared': Analysts Highlight iPhone 16 Demand, Apple Intelligence Opportunity After 'Rock Solid Quarter' - Apple  ( NASDAQ:AAPL ) \",\n",
        "        'summary': \"Apple Inc AAPL beat analysts' fourth-quarter revenue and earnings estimates, but guidance that came in below estimates has analysts questioning the future outlook after Thursday's report. Bank of America analyst Wamsi Mohan reiterated a Buy rating on Apple with a $256 price target.\",\n",
        "        'url': 'https://www.benzinga.com/analyst-ratings/analyst-color/24/11/41690576/apple-q4-results-better-than-feared-analysts-highlight-iphone-16-demand-apple-intel',\n",
        "        'sentiment_score': '0.34258',\n",
        "        'sentiment_label': 'Somewhat-Bullish'}]\n",
        "\n",
        "    Output (in JSON format):\n",
        "    ------\n",
        "    {\n",
        "    \"future_prices_3_days\": {'2024-11-02': price, '2024-11-03': price, '2024-11-04': price}\n",
        "    \"summary_of_news_articles\": [{'title': 'article1_original_title','summary_llm_based': 'text ...','url': 'original_url1'}, ..., {'title': 'article10_original_title','summary_llm_based': 'text ...','url': 'original_url10'}]\n",
        "    \"collective_summary\": \"summary of all 10 news articles\"\n",
        "    \"explanation_of_prediction\": \"explanation of how the model arrived at the future prices and the collective summary\"\n",
        "    }\n",
        "    \"\"\"\n",
        "    model = 'gemini-1.5-flash' # @param {type: \"string\"} [\"gemini-1.5-pro\", \"gemini-1.5-flash\"]\n",
        "    temperature = 0.5 # @param {type: \"slider\", min: 0, max: 2, step: 0.05}\n",
        "\n",
        "    genai.configure(api_key=GEMINI_API_KEY)\n",
        "\n",
        "    model = genai.GenerativeModel(model, system_instruction=system_instructions)\n",
        "    config = genai.GenerationConfig(temperature=temperature)\n",
        "\n",
        "    prompt = f\"\"\"\n",
        "    Input:\n",
        "    ------\n",
        "    ticker: {ticker}\n",
        "    date_today: {get_todays_date_as_string()}\n",
        "    current_price: {stock_data.info['currentPrice']}\n",
        "    historical_price_data: {hist_closing_prices}\n",
        "    news_sentiment_average_alphavantage: {average_sentiment_score_alphavantage}\n",
        "    news_articles_list: {news_sentiment_data_alphavantage}\n",
        "\n",
        "    Outputs (in JSON format):\n",
        "    ===============\n",
        "    predicted_prices: [dict of predicted closing prices for next 3 days]\n",
        "    summary_of_news_articles: [list of summary items of each of latest 10 news articles]\n",
        "    collective_summary: [summary of all 10 news articles]\n",
        "    explanation_of_prediction: [explanation of how the model arrived at the future prices and the collective summary]\n",
        "    \"\"\"\n",
        "\n",
        "    response = model.generate_content(contents=[prompt], generation_config=config)\n",
        "\n",
        "    # return (response.text)\n",
        "\n",
        "    return response.text, ticker, stock_data.info['currentPrice'], hist_closing_prices, news_sentiment_data_alphavantage\n",
        "\n"
      ],
      "metadata": {
        "id": "ejkL_KYAken3"
      },
      "execution_count": 13,
      "outputs": []
    },
    {
      "cell_type": "code",
      "source": [
        "def plot_maker_prices(df, x_item, y_item):\n",
        "    plot = px.line(df,x=x_item,y=y_item, text=y_item)\n",
        "    plot.update_traces(textposition=\"bottom right\")\n",
        "    return plot"
      ],
      "metadata": {
        "id": "oY780U7cmFgU"
      },
      "execution_count": 14,
      "outputs": []
    },
    {
      "cell_type": "code",
      "source": [
        "def result_parser(ticker):\n",
        "    output_text, ticker, currentPrice, hist_closing_prices, news_sentiment_data_alphavantage= predict_stock_price(ticker)\n",
        "\n",
        "    outputDict = llm_output_parser(output_text)\n",
        "\n",
        "    hist_closing_prices_df = pd.DataFrame(list(hist_closing_prices.items()), columns=['Date', 'Stock Closing Price'])\n",
        "\n",
        "    predicted_prices = pd.DataFrame(list(outputDict[\"predicted_prices\"].items()), columns=['Date', 'Predicted Closing Price'])\n",
        "    summary_of_news_articles_llm = pd.DataFrame(list(outputDict[\"summary_of_news_articles\"]))\n",
        "    collective_summary = str(outputDict[\"collective_summary\"])\n",
        "    explanation_of_prediction = str(outputDict[\"explanation_of_prediction\"])\n",
        "\n",
        "    news_sentiment_data_alphavantage = pd.DataFrame(news_sentiment_data_alphavantage)\n",
        "\n",
        "    plot_historical = plot_maker_prices(hist_closing_prices_df,'Date','Stock Closing Price')\n",
        "\n",
        "    plot_preidcted_prices = plot_maker_prices(predicted_prices,'Date','Predicted Closing Price')\n",
        "\n",
        "    return predicted_prices, ticker, currentPrice, hist_closing_prices_df, news_sentiment_data_alphavantage, summary_of_news_articles_llm, collective_summary, explanation_of_prediction, plot_historical, plot_preidcted_prices\n",
        "\n",
        "with gr.Blocks() as app:\n",
        "    gr.Markdown(\"# Stock Ticker Analysis & Prediction App\")\n",
        "\n",
        "    ticker_input = gr.Textbox(\n",
        "        label=\"Enter Ticker for analysis (support only for NASDAQ tickers / Yahoo Finance)\",\n",
        "        placeholder=\"e.g., aapl/msft\"\n",
        "    )\n",
        "\n",
        "    analyze_button = gr.Button(\"Analyze\", variant='primary')\n",
        "\n",
        "\n",
        "    gr.Markdown(\"## Stock Details\")\n",
        "    with gr.Row():\n",
        "        ticker_output = gr.Textbox(label=\"Ticker\")\n",
        "        current_price_output = gr.Textbox(label=\"Current Price\")\n",
        "\n",
        "    with gr.Row():\n",
        "        historical_price_data_output = gr.Dataframe(label=\"Historical Price Data\",headers=[\"Date\", \"Stock Closing Price\"],datatype=[\"str\", \"number\"])\n",
        "        plot_historical_output = gr.Plot(label=\"Plot for historical prices\")\n",
        "\n",
        "    news_sentiment_alphavantage_output = gr.Dataframe(label=\"News Sentiment Results AlphaVantage API\", headers=[\"Title\", \"Summary\", \"URL\", \"Sentiment Score\", \"Sentiment Label\"])\n",
        "\n",
        "    gr.Markdown(\"## Stock Price Prediction\")\n",
        "\n",
        "    with gr.Row():\n",
        "        prediction_output = gr.Dataframe(label=\"LLM Predicted Closing Prices\", headers=[\"Date\", \"Predicted Closing Price\"], datatype=[\"str\", \"number\"])\n",
        "        plot_predicted_prices_output = gr.Plot(label=\"Plot for predicted prices\")\n",
        "\n",
        "    gr.Markdown(\"## Summary of News Articles\")\n",
        "    summary_of_news_articles_output = gr.Dataframe(label=\"Summary of Latest 10 News Articles from LLM\", headers=[\"Title\", \"LLM Summary\", \"URL\"])\n",
        "    with gr.Row():\n",
        "        collective_summary_output = gr.Textbox(label=\"Summary of all 10 news articles\")\n",
        "        explanation_of_prediction_output = gr.Textbox(label=\"Explanation of how the model arrived at the future prices and the collective summary\")\n",
        "\n",
        "\n",
        "\n",
        "\n",
        "    analyze_button.click(\n",
        "        result_parser,\n",
        "        inputs=[ticker_input],\n",
        "        outputs=[prediction_output,\n",
        "                 ticker_output,\n",
        "                 current_price_output,\n",
        "                 historical_price_data_output,\n",
        "                 news_sentiment_alphavantage_output,\n",
        "                 summary_of_news_articles_output,\n",
        "                 collective_summary_output,\n",
        "                 explanation_of_prediction_output,\n",
        "                 plot_historical_output,\n",
        "                 plot_predicted_prices_output\n",
        "                 ],\n",
        "    )\n",
        "\n",
        "# Launch the app\n",
        "app.launch(share=True, debug=True, show_error=True)"
      ],
      "metadata": {
        "colab": {
          "base_uri": "https://localhost:8080/",
          "height": 645
        },
        "id": "TW_s2gBj3F2I",
        "outputId": "56644dd5-6062-4cc2-bb72-322d1f34adea"
      },
      "execution_count": 15,
      "outputs": [
        {
          "output_type": "stream",
          "name": "stdout",
          "text": [
            "Colab notebook detected. This cell will run indefinitely so that you can see errors and logs. To turn off, set debug=False in launch().\n",
            "* Running on public URL: https://55ccf5b87c9c487040.gradio.live\n",
            "\n",
            "This share link expires in 72 hours. For free permanent hosting and GPU upgrades, run `gradio deploy` from the terminal in the working directory to deploy to Hugging Face Spaces (https://huggingface.co/spaces)\n"
          ]
        },
        {
          "output_type": "display_data",
          "data": {
            "text/plain": [
              "<IPython.core.display.HTML object>"
            ],
            "text/html": [
              "<div><iframe src=\"https://55ccf5b87c9c487040.gradio.live\" width=\"100%\" height=\"500\" allow=\"autoplay; camera; microphone; clipboard-read; clipboard-write;\" frameborder=\"0\" allowfullscreen></iframe></div>"
            ]
          },
          "metadata": {}
        },
        {
          "output_type": "stream",
          "name": "stdout",
          "text": [
            "Keyboard interruption in main thread... closing server.\n",
            "Killing tunnel 127.0.0.1:7860 <> https://55ccf5b87c9c487040.gradio.live\n"
          ]
        },
        {
          "output_type": "execute_result",
          "data": {
            "text/plain": []
          },
          "metadata": {},
          "execution_count": 15
        }
      ]
    },
    {
      "cell_type": "code",
      "source": [],
      "metadata": {
        "id": "e2tVz0O87n8V"
      },
      "execution_count": null,
      "outputs": []
    }
  ]
}